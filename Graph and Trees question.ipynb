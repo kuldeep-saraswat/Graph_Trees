{
 "cells": [
  {
   "cell_type": "code",
   "execution_count": 1,
   "id": "30888d3b",
   "metadata": {},
   "outputs": [
    {
     "data": {
      "text/plain": [
       "{'D': 1, 'A': 2, 'C': 2, 'B': 3}"
      ]
     },
     "execution_count": 1,
     "metadata": {},
     "output_type": "execute_result"
    }
   ],
   "source": [
    "# Question 1: Find the degree of each vertex, store in dict, and sort keys by degree\n",
    "def vertex_degrees(graph):\n",
    "    # Calculate degree of each vertex (number of connected edges)\n",
    "    degrees = {v: len(neighbors) for v, neighbors in graph.items()}\n",
    "    # Sort the dictionary by degree (ascending)\n",
    "    sorted_by_degree = dict(sorted(degrees.items(), key=lambda x: x[1]))\n",
    "    return sorted_by_degree\n",
    "\n",
    "# Sample graph\n",
    "sample_graph = {\n",
    "    'A': ['B', 'C'],\n",
    "    'B': ['A', 'C', 'D'],\n",
    "    'C': ['A', 'B'],\n",
    "    'D': ['B']\n",
    "}\n",
    "vertex_degrees(sample_graph)  # Call the function to get vertex degrees"
   ]
  },
  {
   "cell_type": "code",
   "execution_count": 2,
   "id": "02f03839",
   "metadata": {},
   "outputs": [
    {
     "data": {
      "text/plain": [
       "([[0, 1, 1, 0], [1, 0, 1, 1], [1, 1, 0, 0], [0, 1, 0, 0]],\n",
       " [('A', 'B'),\n",
       "  ('A', 'C'),\n",
       "  ('B', 'A'),\n",
       "  ('B', 'C'),\n",
       "  ('B', 'D'),\n",
       "  ('C', 'A'),\n",
       "  ('C', 'B'),\n",
       "  ('D', 'B')],\n",
       " {'A': ['B', 'C', 'B', 'C'],\n",
       "  'B': ['A', 'A', 'C', 'D', 'C', 'D'],\n",
       "  'C': ['A', 'B', 'A', 'B'],\n",
       "  'D': ['B', 'B']})"
      ]
     },
     "execution_count": 2,
     "metadata": {},
     "output_type": "execute_result"
    }
   ],
   "source": [
    "# Question 2: Inter-convert graph representations: Adjacency list, matrix, and edge list\n",
    "from collections import defaultdict\n",
    "\n",
    "def adj_list_to_adj_matrix(graph):\n",
    "    vertices = list(graph.keys())\n",
    "    idx = {v: i for i, v in enumerate(vertices)}\n",
    "    size = len(vertices)\n",
    "    matrix = [[0]*size for _ in range(size)]\n",
    "    for v, neighbors in graph.items():\n",
    "        for n in neighbors:\n",
    "            matrix[idx[v]][idx[n]] = 1\n",
    "    return matrix, vertices\n",
    "\n",
    "def adj_matrix_to_edge_list(matrix, vertices):\n",
    "    edges = []\n",
    "    for i, row in enumerate(matrix):\n",
    "        for j, val in enumerate(row):\n",
    "            if val:\n",
    "                edges.append((vertices[i], vertices[j]))\n",
    "    return edges\n",
    "\n",
    "def edge_list_to_adj_list(edge_list):\n",
    "    graph = defaultdict(list)\n",
    "    for u, v in edge_list:\n",
    "        graph[u].append(v)\n",
    "        graph[v].append(u)\n",
    "    return dict(graph)\n",
    "\n",
    "# Convert sample graph to different representations\n",
    "matrix, vertices = adj_list_to_adj_matrix(sample_graph)\n",
    "edges = adj_matrix_to_edge_list(matrix, vertices)\n",
    "adj_list = edge_list_to_adj_list(edges)\n",
    "matrix, edges, adj_list  # Return all representations"
   ]
  },
  {
   "cell_type": "code",
   "execution_count": 3,
   "id": "a2e5726f",
   "metadata": {},
   "outputs": [
    {
     "data": {
      "text/plain": [
       "True"
      ]
     },
     "execution_count": 3,
     "metadata": {},
     "output_type": "execute_result"
    }
   ],
   "source": [
    "# Question 3: Check if two vertices are adjacent\n",
    "def are_adjacent(graph, u, v):\n",
    "    # Check if vertex v is in the adjacency list of vertex u\n",
    "    return v in graph[u]\n",
    "\n",
    "are_adjacent(sample_graph, 'A', 'C')  # Check adjacency between A and C"
   ]
  },
  {
   "cell_type": "code",
   "execution_count": 4,
   "id": "33d33c8f",
   "metadata": {},
   "outputs": [
    {
     "data": {
      "text/plain": [
       "False"
      ]
     },
     "execution_count": 4,
     "metadata": {},
     "output_type": "execute_result"
    }
   ],
   "source": [
    "# Question 4: Check if a graph is complete\n",
    "def is_complete(graph):\n",
    "    n = len(graph)  # Number of vertices\n",
    "    return all(len(neighbors) == n - 1 for neighbors in graph.values())\n",
    "\n",
    "is_complete(sample_graph)  # Check if the sample graph is complete"
   ]
  },
  {
   "cell_type": "code",
   "execution_count": 5,
   "id": "4ed68b0d",
   "metadata": {},
   "outputs": [
    {
     "data": {
      "text/plain": [
       "True"
      ]
     },
     "execution_count": 5,
     "metadata": {},
     "output_type": "execute_result"
    }
   ],
   "source": [
    "# Question 5: Check if a graph is connected\n",
    "from collections import deque\n",
    "\n",
    "def is_connected(graph):\n",
    "    visited = set()  # Set to keep track of visited nodes\n",
    "    def bfs(start):\n",
    "        q = deque([start])  # Initialize queue with the starting node\n",
    "        while q:\n",
    "            node = q.popleft()  # Dequeue a node\n",
    "            if node not in visited:\n",
    "                visited.add(node)  # Mark node as visited\n",
    "                q.extend(graph[node])  # Enqueue all its neighbors\n",
    "    start = next(iter(graph))  # Get an arbitrary starting vertex\n",
    "    bfs(start)  # Start BFS from the chosen vertex\n",
    "    return len(visited) == len(graph)  # Check if all vertices were visited\n",
    "\n",
    "is_connected(sample_graph)  # Check if the sample graph is connected"
   ]
  },
  {
   "cell_type": "code",
   "execution_count": 6,
   "id": "010afb19",
   "metadata": {},
   "outputs": [
    {
     "data": {
      "text/plain": [
       "'Trail'"
      ]
     },
     "execution_count": 6,
     "metadata": {},
     "output_type": "execute_result"
    }
   ],
   "source": [
    "# Question 6: Walk, Trail, Path checker\n",
    "def classify_sequence(graph, sequence):\n",
    "    if not all(sequence[i+1] in graph[sequence[i]] for i in range(len(sequence) - 1)):\n",
    "        return \"None\"  # Return None if any edge is invalid\n",
    "    \n",
    "    edges = set()  # Set to track edges\n",
    "    repeated_edge = False  # Flag for repeated edges\n",
    "    nodes = []  # List to track nodes in the sequence\n",
    "    for i in range(len(sequence) - 1):\n",
    "        edge = tuple(sorted((sequence[i], sequence[i+1])))  # Create a sorted edge tuple\n",
    "        if edge in edges:\n",
    "            repeated_edge = True  # Mark if edge is repeated\n",
    "        edges.add(edge)  # Add edge to the set\n",
    "        nodes.append(sequence[i])  # Add current node to the list\n",
    "    nodes.append(sequence[-1])  # Add the last node\n",
    "    \n",
    "    # Determine the type of sequence\n",
    "    if not repeated_edge and len(set(nodes)) == len(nodes):\n",
    "        return \"Path\"  # No repeated edges and all nodes are unique\n",
    "    elif not repeated_edge:\n",
    "        return \"Trail\"  # No repeated edges but nodes can repeat\n",
    "    return \"Walk\"  # Repeated edges\n",
    "\n",
    "classify_sequence(sample_graph, ['A', 'B', 'C', 'A'])  # Classify the given sequence"
   ]
  },
  {
   "cell_type": "code",
   "execution_count": 7,
   "id": "52b1e782",
   "metadata": {},
   "outputs": [
    {
     "data": {
      "text/plain": [
       "False"
      ]
     },
     "execution_count": 7,
     "metadata": {},
     "output_type": "execute_result"
    }
   ],
   "source": [
    "# Question 7: Check if a graph is a tree\n",
    "def is_tree(graph):\n",
    "    visited = set()  # Set to track visited nodes\n",
    "    parent = {}  # Dictionary to track parent nodes\n",
    "\n",
    "    def dfs(v, p):\n",
    "        visited.add(v)  # Mark the current node as visited\n",
    "        for neighbor in graph[v]:\n",
    "            if neighbor == p:  # Ignore the edge back to the parent\n",
    "                continue\n",
    "            if neighbor in visited:  # Cycle detected\n",
    "                return False\n",
    "            parent[neighbor] = v  # Set parent of the neighbor\n",
    "            if not dfs(neighbor, v):  # Recur for the neighbor\n",
    "                return False\n",
    "        return True  # No cycles detected\n",
    "\n",
    "    start = next(iter(graph))  # Get an arbitrary starting vertex\n",
    "    if not dfs(start, None):  # Start DFS\n",
    "        return False  # If DFS returns False, it's not a tree\n",
    "    return len(visited) == len(graph)  # Check if all nodes were visited\n",
    "\n",
    "is_tree(sample_graph)  # Check if the sample graph is a tree"
   ]
  },
  {
   "cell_type": "code",
   "execution_count": 8,
   "id": "34fddd4f",
   "metadata": {},
   "outputs": [
    {
     "data": {
      "text/plain": [
       "{'A': ['B'], 'B': ['A', 'C', 'D'], 'C': ['B'], 'D': ['B']}"
      ]
     },
     "execution_count": 8,
     "metadata": {},
     "output_type": "execute_result"
    }
   ],
   "source": [
    "# Question 8: Find spanning tree from cyclic connected graph using DFS\n",
    "def find_spanning_tree(graph):\n",
    "    tree = defaultdict(list)  # Initialize an empty tree\n",
    "    visited = set()  # Set to track visited nodes\n",
    "    \n",
    "    def dfs(u):\n",
    "        visited.add(u)  # Mark the current node as visited\n",
    "        for v in graph[u]:\n",
    "            if v not in visited:  # If neighbor is not visited\n",
    "                tree[u].append(v)  # Add edge to the tree\n",
    "                tree[v].append(u)  # Add the reverse edge (undirected)\n",
    "                dfs(v)  # Recur for the neighbor\n",
    "\n",
    "    dfs(next(iter(graph)))  # Start DFS from an arbitrary vertex\n",
    "    return dict(tree)  # Return the spanning tree as a regular dict\n",
    "\n",
    "spanning_tree = find_spanning_tree(sample_graph)  # Find the spanning tree\n",
    "spanning_tree  # Return the spanning tree"
   ]
  },
  {
   "cell_type": "code",
   "execution_count": 9,
   "id": "ab418c82",
   "metadata": {},
   "outputs": [
    {
     "data": {
      "text/plain": [
       "3"
      ]
     },
     "execution_count": 9,
     "metadata": {},
     "output_type": "execute_result"
    }
   ],
   "source": [
    "# Question 9: Count leaf nodes in a tree\n",
    "def count_leaf_nodes(tree):\n",
    "    # Leaf node has only one connected node (degree 1)\n",
    "    return sum(1 for node in tree if len(tree[node]) == 1)  # Count nodes with degree 1\n",
    "\n",
    "count_leaf_nodes(spanning_tree)  # Count leaf nodes in the spanning tree"
   ]
  },
  {
   "cell_type": "code",
   "execution_count": 10,
   "id": "1a8294e4",
   "metadata": {},
   "outputs": [
    {
     "data": {
      "text/plain": [
       "False"
      ]
     },
     "execution_count": 10,
     "metadata": {},
     "output_type": "execute_result"
    }
   ],
   "source": [
    "# Question 10: Check if tree is binary\n",
    "def is_binary_tree(tree):\n",
    "    # In a binary tree, every node has <= 2 children\n",
    "    return all(len(children) <= 2 for children in tree.values())  # Check the degree of each node\n",
    "\n",
    "is_binary_tree(spanning_tree)  # Check if the spanning tree is a binary tree"
   ]
  },
  {
   "cell_type": "code",
   "execution_count": 11,
   "id": "8c0317ef",
   "metadata": {},
   "outputs": [
    {
     "data": {
      "text/plain": [
       "1"
      ]
     },
     "execution_count": 11,
     "metadata": {},
     "output_type": "execute_result"
    }
   ],
   "source": [
    "# Question 11: Height of a node\n",
    "def height_of_node(tree, node):\n",
    "    def dfs(v, p):\n",
    "        # Calculate the height of the node\n",
    "        children = [child for child in tree[v] if child != p]  # Get children excluding parent\n",
    "        if not children:  # If no children, height is 0\n",
    "            return 0\n",
    "        return 1 + max(dfs(child, v) for child in children)  # Height is 1 + max height of children\n",
    "\n",
    "    return dfs(node, None)  # Start DFS from the given node\n",
    "\n",
    "height_of_node(spanning_tree, 'B')  # Get the height of node B"
   ]
  },
  {
   "cell_type": "code",
   "execution_count": 12,
   "id": "1cee9457",
   "metadata": {},
   "outputs": [
    {
     "data": {
      "text/plain": [
       "2"
      ]
     },
     "execution_count": 12,
     "metadata": {},
     "output_type": "execute_result"
    }
   ],
   "source": [
    "# Question 12: Depth of a node\n",
    "def depth_of_node(tree, root, target):\n",
    "    def dfs(v, d, p):\n",
    "        # Find the depth of the target node\n",
    "        if v == target:  # If current node is the target\n",
    "            return d  # Return the current depth\n",
    "        for child in tree[v]:\n",
    "            if child != p:  # Ignore the edge back to the parent\n",
    "                depth = dfs(child, d + 1, v)  # Recur for the child\n",
    "                if depth != -1:  # If depth found\n",
    "                    return depth  # Return the found depth\n",
    "        return -1  # Target not found\n",
    "\n",
    "    return dfs(root, 0, None)  # Start DFS from the root with depth 0\n",
    "\n",
    "depth_of_node(spanning_tree, 'A', 'D')  # Get the depth of node D from root A"
   ]
  },
  {
   "cell_type": "code",
   "execution_count": null,
   "id": "bb750a99",
   "metadata": {},
   "outputs": [],
   "source": []
  }
 ],
 "metadata": {
  "kernelspec": {
   "display_name": "Python 3",
   "language": "python",
   "name": "python3"
  },
  "language_info": {
   "codemirror_mode": {
    "name": "ipython",
    "version": 3
   },
   "file_extension": ".py",
   "mimetype": "text/x-python",
   "name": "python",
   "nbconvert_exporter": "python",
   "pygments_lexer": "ipython3",
   "version": "3.12.4"
  }
 },
 "nbformat": 4,
 "nbformat_minor": 5
}
